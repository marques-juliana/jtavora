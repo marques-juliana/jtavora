{
  "nbformat": 4,
  "nbformat_minor": 0,
  "metadata": {
    "kernelspec": {
      "display_name": "Python 3",
      "language": "python",
      "name": "python3"
    },
    "language_info": {
      "codemirror_mode": {
        "name": "ipython",
        "version": 3
      },
      "file_extension": ".py",
      "mimetype": "text/x-python",
      "name": "python",
      "nbconvert_exporter": "python",
      "pygments_lexer": "ipython3",
      "version": "3.7.9"
    },
    "colab": {
      "name": "Análise token em contexto.ipynb",
      "provenance": []
    }
  },
  "cells": [
    {
      "cell_type": "code",
      "metadata": {
        "id": "OpO9M2G0fxtO",
        "outputId": "b4477229-a0dd-4509-f3ae-ce11feb57aa7"
      },
      "source": [
        "import pandas as pd\n",
        "import nltk\n",
        "import ast\n",
        "from nltk.corpus import stopwords \n",
        "nltk.download('stopwords') \n",
        "from tqdm import tqdm"
      ],
      "execution_count": null,
      "outputs": [
        {
          "name": "stderr",
          "output_type": "stream",
          "text": [
            "[nltk_data] Downloading package stopwords to\n",
            "[nltk_data]     C:\\Users\\lucas\\AppData\\Roaming\\nltk_data...\n",
            "[nltk_data]   Package stopwords is already up-to-date!\n"
          ]
        }
      ]
    },
    {
      "cell_type": "code",
      "metadata": {
        "id": "BmMwdIXmfxta"
      },
      "source": [
        "df = pd.read_csv('Juarez_words_full.csv')\n",
        "df = df[['Arquivo','Palavras']]\n",
        "df['Palavras'] = df['Palavras'].apply(ast.literal_eval)\n",
        "\n",
        "stop_words = stopwords.words('portuguese')\n",
        "stop_words_manual = ['to','pt','sobre','ca','si','al','ra','ainda','ai','so','ta','ae','fl','in','oa','fi','at','co','li','ti','qualquer','ha','dr','sa','ter','be','tal','ar','sob','onde','es','ma','of','ri','re','ir','assim','la','sempre','desde','cl','jl','is','mo','am','ac','it','oe','an','st','ro','or','en','vez','on','pa','io','dc','lo','deste','alguns','fa','pe','mi','lu','mm','va','pis','ua','af','agora','ce','le','il','he','vossa','via','pi','ne','des','ali','pr','om','quais','nesse','alguma','el','cr','az','aj','aue','ei','au','demais','nessa','av','qua','ul','ho','et','po','vo','perante','ve','pu','di','ap','tr','ie','su','ui','un','ad','per','nt','logo','go','ji','du','bo','fo','er','jo','mu']\n",
        "\n",
        "stop_words = set(stop_words + stop_words_manual)\n",
        "\n",
        "def retirar_stop_words(x):\n",
        "    words = [i for i in x if i not in stop_words]\n",
        "    return words\n",
        "\n",
        "\n",
        "df['Palavras'] = df['Palavras'].apply(retirar_stop_words)\n",
        "\n",
        "df['Palavras'] = df['Palavras'].apply(lambda x: ' '.join(word for word in x))\n",
        "\n",
        "df = df[df['Palavras'] != '']\n",
        "\n",
        "df['Palavras'] = df['Palavras'].apply(lambda x: x.split())\n",
        "\n"
      ],
      "execution_count": null,
      "outputs": []
    },
    {
      "cell_type": "code",
      "metadata": {
        "id": "JcP58TeSfxtd"
      },
      "source": [
        "from unicodedata import normalize\n",
        "key = pd.read_csv('keywords.csv', names=range(16))\n",
        "key = key.fillna('0')\n",
        "\n",
        "key = key.applymap(lambda x: normalize('NFKD', x).encode('ASCII','ignore').decode('ASCII'))\n",
        "key = key.applymap(lambda x: x.replace(\" \", \"\"))"
      ],
      "execution_count": null,
      "outputs": []
    },
    {
      "cell_type": "code",
      "metadata": {
        "id": "wp-lvvSCfxtf"
      },
      "source": [
        "key_dict = key.set_index(0).T.to_dict('list')\n",
        "\n",
        "dict_final = {}\n",
        "for word in key_dict:\n",
        "    lista = key_dict[word]\n",
        "    lista_final = []\n",
        "    for i in lista:\n",
        "        if i != '0':\n",
        "            lista_final.append(i)\n",
        "     \n",
        "    dict_final[word] = lista_final"
      ],
      "execution_count": null,
      "outputs": []
    },
    {
      "cell_type": "code",
      "metadata": {
        "id": "PVmVis9Yfxtg",
        "outputId": "4c8ac46a-3ce6-4793-8ef9-c03288d41cbc"
      },
      "source": [
        "array = []\n",
        "for key in tqdm(dict_final):\n",
        "    lista = dict_final[key]\n",
        "    for index, row in df.iterrows():\n",
        "        for count, value in enumerate(row['Palavras']):\n",
        "            if value in lista:\n",
        "                lista_esquerda = row['Palavras'][:(-1)*count]\n",
        "                lista_direita = row['Palavras'][count+1:]\n",
        "                arquivo = row['Arquivo']\n",
        "                array.append([arquivo,lista_esquerda, key, lista_direita])\n",
        "                \n",
        "\n",
        "df_total = pd.DataFrame(array)"
      ],
      "execution_count": null,
      "outputs": [
        {
          "name": "stderr",
          "output_type": "stream",
          "text": [
            "100%|██████████████████████████████████████████████████████████████████████████████████| 39/39 [01:06<00:00,  1.71s/it]\n"
          ]
        }
      ]
    },
    {
      "cell_type": "code",
      "metadata": {
        "id": "Ky61D3h9fxth"
      },
      "source": [
        "df_total_teste = df_total.copy()"
      ],
      "execution_count": null,
      "outputs": []
    },
    {
      "cell_type": "code",
      "metadata": {
        "id": "2ONBiqdffxth"
      },
      "source": [
        "df_total_teste[1] = df_total_teste[1].apply(lambda x: x[-4:])\n",
        "df_total_teste[1] = df_total_teste[1].apply(lambda x: ' | '.join(word for word in x))\n",
        "\n",
        "df_total_teste[3] = df_total_teste[3].apply(lambda x: x[:4])\n",
        "df_total_teste[3] = df_total_teste[3].apply(lambda x: ' | '.join(word for word in x))"
      ],
      "execution_count": null,
      "outputs": []
    },
    {
      "cell_type": "code",
      "metadata": {
        "id": "wPXOnLWqfxtm"
      },
      "source": [
        "df_total_teste.columns = ['Arquivo', 'Palavras esquerda', 'Palavra principal', 'Palavras direita']"
      ],
      "execution_count": null,
      "outputs": []
    },
    {
      "cell_type": "code",
      "metadata": {
        "id": "LVa3ahsWfxtn"
      },
      "source": [
        "df_total_teste.to_excel('palavras_tópico_arquivo.xlsx', index = False)"
      ],
      "execution_count": null,
      "outputs": []
    },
    {
      "cell_type": "code",
      "metadata": {
        "id": "oTUL-LGGfxtp",
        "outputId": "09c12630-5d74-4980-f4ff-036cea9c4051"
      },
      "source": [
        "df_total_teste"
      ],
      "execution_count": null,
      "outputs": [
        {
          "data": {
            "text/html": [
              "<div>\n",
              "<style scoped>\n",
              "    .dataframe tbody tr th:only-of-type {\n",
              "        vertical-align: middle;\n",
              "    }\n",
              "\n",
              "    .dataframe tbody tr th {\n",
              "        vertical-align: top;\n",
              "    }\n",
              "\n",
              "    .dataframe thead th {\n",
              "        text-align: right;\n",
              "    }\n",
              "</style>\n",
              "<table border=\"1\" class=\"dataframe\">\n",
              "  <thead>\n",
              "    <tr style=\"text-align: right;\">\n",
              "      <th></th>\n",
              "      <th>Arquivo</th>\n",
              "      <th>Palavras esquerda</th>\n",
              "      <th>Palavra principal</th>\n",
              "      <th>Palavras direita</th>\n",
              "    </tr>\n",
              "  </thead>\n",
              "  <tbody>\n",
              "    <tr>\n",
              "      <th>0</th>\n",
              "      <td>I0010952.TXT</td>\n",
              "      <td>sabia | veio | destino | reduzidos</td>\n",
              "      <td>alimentacao</td>\n",
              "      <td>sertanejo | resolver | terreno | terra</td>\n",
              "    </tr>\n",
              "    <tr>\n",
              "      <th>1</th>\n",
              "      <td>I0011697.TXT</td>\n",
              "      <td>corrente | dezoito | alimento | ultimo</td>\n",
              "      <td>alimentacao</td>\n",
              "      <td>ultimo | ev | ej</td>\n",
              "    </tr>\n",
              "    <tr>\n",
              "      <th>2</th>\n",
              "      <td>I0014784.TXT</td>\n",
              "      <td>piau | desembargador | testemunho | pois</td>\n",
              "      <td>alimentacao</td>\n",
              "      <td>federal | nisto | duvida | prosperidade</td>\n",
              "    </tr>\n",
              "    <tr>\n",
              "      <th>3</th>\n",
              "      <td>I0014891.TXT</td>\n",
              "      <td>cinco | novo | falta | cao</td>\n",
              "      <td>alimentacao</td>\n",
              "      <td>mediante | instalar | pouco | vitais</td>\n",
              "    </tr>\n",
              "    <tr>\n",
              "      <th>4</th>\n",
              "      <td>I0016011.TXT</td>\n",
              "      <td>poder | tia | precisar | temperamento</td>\n",
              "      <td>alimentacao</td>\n",
              "      <td>auxiliar | sendo | compadre | imo</td>\n",
              "    </tr>\n",
              "    <tr>\n",
              "      <th>...</th>\n",
              "      <td>...</td>\n",
              "      <td>...</td>\n",
              "      <td>...</td>\n",
              "      <td>...</td>\n",
              "    </tr>\n",
              "    <tr>\n",
              "      <th>2573</th>\n",
              "      <td>I0030495.TXT</td>\n",
              "      <td>autarquia | comercial | obras | decreto</td>\n",
              "      <td>seca</td>\n",
              "      <td>contra | empresa | bacia | definir</td>\n",
              "    </tr>\n",
              "    <tr>\n",
              "      <th>2574</th>\n",
              "      <td>I0030499.TXT</td>\n",
              "      <td>rio | obras | extintas | outras</td>\n",
              "      <td>seca</td>\n",
              "      <td>direitos | centralizado | carga | aprovado</td>\n",
              "    </tr>\n",
              "    <tr>\n",
              "      <th>2575</th>\n",
              "      <td>I0030521.TXT</td>\n",
              "      <td>mento | postal | abastecimento | rio</td>\n",
              "      <td>seca</td>\n",
              "      <td>contra | grande | pesca | mento</td>\n",
              "    </tr>\n",
              "    <tr>\n",
              "      <th>2576</th>\n",
              "      <td>I0030837.TXT</td>\n",
              "      <td>recursos | cujo | desta | baixo</td>\n",
              "      <td>seca</td>\n",
              "      <td>ja | fronteira | planalto | atual</td>\n",
              "    </tr>\n",
              "    <tr>\n",
              "      <th>2577</th>\n",
              "      <td>I0030844.TXT</td>\n",
              "      <td>instalar | vale | melhor | militares</td>\n",
              "      <td>seca</td>\n",
              "      <td>unidades | favor | ja | aplicados</td>\n",
              "    </tr>\n",
              "  </tbody>\n",
              "</table>\n",
              "<p>2578 rows × 4 columns</p>\n",
              "</div>"
            ],
            "text/plain": [
              "           Arquivo                         Palavras esquerda  \\\n",
              "0     I0010952.TXT        sabia | veio | destino | reduzidos   \n",
              "1     I0011697.TXT    corrente | dezoito | alimento | ultimo   \n",
              "2     I0014784.TXT  piau | desembargador | testemunho | pois   \n",
              "3     I0014891.TXT                cinco | novo | falta | cao   \n",
              "4     I0016011.TXT     poder | tia | precisar | temperamento   \n",
              "...            ...                                       ...   \n",
              "2573  I0030495.TXT   autarquia | comercial | obras | decreto   \n",
              "2574  I0030499.TXT           rio | obras | extintas | outras   \n",
              "2575  I0030521.TXT      mento | postal | abastecimento | rio   \n",
              "2576  I0030837.TXT           recursos | cujo | desta | baixo   \n",
              "2577  I0030844.TXT      instalar | vale | melhor | militares   \n",
              "\n",
              "     Palavra principal                            Palavras direita  \n",
              "0          alimentacao      sertanejo | resolver | terreno | terra  \n",
              "1          alimentacao                            ultimo | ev | ej  \n",
              "2          alimentacao     federal | nisto | duvida | prosperidade  \n",
              "3          alimentacao        mediante | instalar | pouco | vitais  \n",
              "4          alimentacao           auxiliar | sendo | compadre | imo  \n",
              "...                ...                                         ...  \n",
              "2573              seca          contra | empresa | bacia | definir  \n",
              "2574              seca  direitos | centralizado | carga | aprovado  \n",
              "2575              seca             contra | grande | pesca | mento  \n",
              "2576              seca           ja | fronteira | planalto | atual  \n",
              "2577              seca           unidades | favor | ja | aplicados  \n",
              "\n",
              "[2578 rows x 4 columns]"
            ]
          },
          "execution_count": 30,
          "metadata": {},
          "output_type": "execute_result"
        }
      ]
    },
    {
      "cell_type": "code",
      "metadata": {
        "id": "lW7PsxwPfxtt"
      },
      "source": [
        "df = pd.read_csv('Juarez_words_full.csv')"
      ],
      "execution_count": null,
      "outputs": []
    },
    {
      "cell_type": "code",
      "metadata": {
        "id": "PMUuDdYLfxtu",
        "outputId": "27a2376b-90cb-4ed7-90fd-aff5487e66e1"
      },
      "source": [
        "df"
      ],
      "execution_count": null,
      "outputs": [
        {
          "data": {
            "text/html": [
              "<div>\n",
              "<style scoped>\n",
              "    .dataframe tbody tr th:only-of-type {\n",
              "        vertical-align: middle;\n",
              "    }\n",
              "\n",
              "    .dataframe tbody tr th {\n",
              "        vertical-align: top;\n",
              "    }\n",
              "\n",
              "    .dataframe thead th {\n",
              "        text-align: right;\n",
              "    }\n",
              "</style>\n",
              "<table border=\"1\" class=\"dataframe\">\n",
              "  <thead>\n",
              "    <tr style=\"text-align: right;\">\n",
              "      <th></th>\n",
              "      <th>Arquivo</th>\n",
              "      <th>Palavras</th>\n",
              "    </tr>\n",
              "  </thead>\n",
              "  <tbody>\n",
              "    <tr>\n",
              "      <th>4</th>\n",
              "      <td>I0002988.TXT</td>\n",
              "      <td>[juarez, general, rio, janeiro]</td>\n",
              "    </tr>\n",
              "    <tr>\n",
              "      <th>5</th>\n",
              "      <td>I0002989.TXT</td>\n",
              "      <td>[gerente, barbosa, affonso, banco, queiroz, ar...</td>\n",
              "    </tr>\n",
              "    <tr>\n",
              "      <th>6</th>\n",
              "      <td>I0002990.TXT</td>\n",
              "      <td>[departamento, telegrama, indicar, hora, y, re...</td>\n",
              "    </tr>\n",
              "    <tr>\n",
              "      <th>7</th>\n",
              "      <td>I0002991.TXT</td>\n",
              "      <td>[paris, riqueza, madeira, artigo, extensa, pri...</td>\n",
              "    </tr>\n",
              "    <tr>\n",
              "      <th>9</th>\n",
              "      <td>I0002993.TXT</td>\n",
              "      <td>[oj, documentos, pasta, destino, guia, data]</td>\n",
              "    </tr>\n",
              "    <tr>\n",
              "      <th>...</th>\n",
              "      <td>...</td>\n",
              "      <td>...</td>\n",
              "    </tr>\n",
              "    <tr>\n",
              "      <th>54936</th>\n",
              "      <td>I0041332.TXT</td>\n",
              "      <td>[ademar, estado, juscelino, salgado, kubitsche...</td>\n",
              "    </tr>\n",
              "    <tr>\n",
              "      <th>54937</th>\n",
              "      <td>I0041333.TXT</td>\n",
              "      <td>[ademar, estado, grosso, juscelino, mato, salg...</td>\n",
              "    </tr>\n",
              "    <tr>\n",
              "      <th>54938</th>\n",
              "      <td>I0041334.TXT</td>\n",
              "      <td>[ademar, estado, juscelino, salgado, kubitsche...</td>\n",
              "    </tr>\n",
              "    <tr>\n",
              "      <th>54939</th>\n",
              "      <td>I0041335.TXT</td>\n",
              "      <td>[ademar, ia, estado, juscelino, catarina, salg...</td>\n",
              "    </tr>\n",
              "    <tr>\n",
              "      <th>54940</th>\n",
              "      <td>I0041336.TXT</td>\n",
              "      <td>[ademar, saldado, salgado, kubitschek, rio, su...</td>\n",
              "    </tr>\n",
              "  </tbody>\n",
              "</table>\n",
              "<p>23078 rows × 2 columns</p>\n",
              "</div>"
            ],
            "text/plain": [
              "            Arquivo                                           Palavras\n",
              "4      I0002988.TXT                    [juarez, general, rio, janeiro]\n",
              "5      I0002989.TXT  [gerente, barbosa, affonso, banco, queiroz, ar...\n",
              "6      I0002990.TXT  [departamento, telegrama, indicar, hora, y, re...\n",
              "7      I0002991.TXT  [paris, riqueza, madeira, artigo, extensa, pri...\n",
              "9      I0002993.TXT       [oj, documentos, pasta, destino, guia, data]\n",
              "...             ...                                                ...\n",
              "54936  I0041332.TXT  [ademar, estado, juscelino, salgado, kubitsche...\n",
              "54937  I0041333.TXT  [ademar, estado, grosso, juscelino, mato, salg...\n",
              "54938  I0041334.TXT  [ademar, estado, juscelino, salgado, kubitsche...\n",
              "54939  I0041335.TXT  [ademar, ia, estado, juscelino, catarina, salg...\n",
              "54940  I0041336.TXT  [ademar, saldado, salgado, kubitschek, rio, su...\n",
              "\n",
              "[23078 rows x 2 columns]"
            ]
          },
          "execution_count": 18,
          "metadata": {},
          "output_type": "execute_result"
        }
      ]
    },
    {
      "cell_type": "code",
      "metadata": {
        "id": "NCLU3oHQfxtv"
      },
      "source": [
        ""
      ],
      "execution_count": null,
      "outputs": []
    }
  ]
}