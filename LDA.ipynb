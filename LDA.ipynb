{
  "nbformat": 4,
  "nbformat_minor": 0,
  "metadata": {
    "kernelspec": {
      "display_name": "Python 3",
      "language": "python",
      "name": "python3"
    },
    "language_info": {
      "codemirror_mode": {
        "name": "ipython",
        "version": 3
      },
      "file_extension": ".py",
      "mimetype": "text/x-python",
      "name": "python",
      "nbconvert_exporter": "python",
      "pygments_lexer": "ipython3",
      "version": "3.7.3"
    },
    "colab": {
      "name": "LDA.ipynb",
      "provenance": []
    }
  },
  "cells": [
    {
      "cell_type": "code",
      "metadata": {
        "id": "EhF4-3SaGQWC",
        "outputId": "26bed3c9-3664-4aad-9a06-e65a787b5bf0"
      },
      "source": [
        "import pandas as pd\n",
        "import nltk\n",
        "import ast\n",
        "nltk.download('stopwords') \n",
        "from sklearn.feature_extraction.text import CountVectorizer\n",
        "from sklearn.decomposition import LatentDirichletAllocation as LDA\n",
        "from pyLDAvis import sklearn as sklearn_lda\n",
        "import re\n",
        "import os\n",
        "import numpy as np\n",
        "from gensim import models, corpora\n",
        "from nltk.corpus import stopwords \n",
        "from nltk.tokenize import word_tokenize\n",
        "import matplotlib.pyplot as plt\n",
        "import seaborn as sns\n",
        "sns.set_style('whitegrid')\n",
        "%matplotlib inline\n",
        "from nltk import tokenize\n",
        "import pyLDAvis"
      ],
      "execution_count": null,
      "outputs": [
        {
          "output_type": "stream",
          "text": [
            "[nltk_data] Downloading package stopwords to\n",
            "[nltk_data]     C:\\Users\\lucas\\AppData\\Roaming\\nltk_data...\n",
            "[nltk_data]   Package stopwords is already up-to-date!\n"
          ],
          "name": "stderr"
        }
      ]
    },
    {
      "cell_type": "code",
      "metadata": {
        "id": "E5iGr9oGGQWK",
        "outputId": "3216e482-cc4a-424b-c973-82d8c630d398"
      },
      "source": [
        "df = pd.read_csv('Juarez_words_full.csv')\n",
        "df_words = df[['Palavras']]\n",
        "df_words['Palavras'] = df_words['Palavras'].apply(ast.literal_eval)"
      ],
      "execution_count": null,
      "outputs": [
        {
          "output_type": "stream",
          "text": [
            "c:\\users\\lucas\\appdata\\local\\programs\\python\\python37\\lib\\site-packages\\ipykernel_launcher.py:3: SettingWithCopyWarning: \n",
            "A value is trying to be set on a copy of a slice from a DataFrame.\n",
            "Try using .loc[row_indexer,col_indexer] = value instead\n",
            "\n",
            "See the caveats in the documentation: http://pandas.pydata.org/pandas-docs/stable/indexing.html#indexing-view-versus-copy\n",
            "  This is separate from the ipykernel package so we can avoid doing imports until\n"
          ],
          "name": "stderr"
        }
      ]
    },
    {
      "cell_type": "code",
      "metadata": {
        "id": "eKooQ5naGQWM"
      },
      "source": [
        "stop_words = stopwords.words('portuguese')\n",
        "stop_words_manual = ['to','pt','sobre','ca','si','al','ra','ainda','ai','so','ta','ae','fl','in','oa','fi','at','co','li','ti','qualquer','ha','dr','sa','ter','be','tal','ar','sob','onde','es','ma','of','ri','re','ir','assim','la','sempre','desde','cl','jl','is','mo','am','ac','it','oe','an','st','ro','or','en','vez','on','pa','io','dc','lo','deste','alguns','fa','pe','mi','lu','mm','va','pis','ua','af','agora','ce','le','il','he','vossa','via','pi','ne','des','ali','pr','om','quais','nesse','alguma','el','cr','az','aj','aue','ei','au','demais','nessa','av','qua','ul','ho','et','po','vo','perante','ve','pu','di','ap','tr','ie','su','ui','un','ad','per','nt','logo','go','ji','du','bo','fo','er','jo','mu']\n",
        "\n",
        "stop_words = set(stop_words + stop_words_manual)"
      ],
      "execution_count": null,
      "outputs": []
    },
    {
      "cell_type": "code",
      "metadata": {
        "id": "EkXkfqYaGQWN"
      },
      "source": [
        "def retirar_stop_words(x):\n",
        "    words = [i for i in x if i not in stop_words]\n",
        "    return words"
      ],
      "execution_count": null,
      "outputs": []
    },
    {
      "cell_type": "code",
      "metadata": {
        "id": "il9sDb_3GQWO",
        "outputId": "55c71c27-463a-444f-c302-c4429ca3f3e5"
      },
      "source": [
        "df_words['Palavras'] = df_words['Palavras'].apply(retirar_stop_words) "
      ],
      "execution_count": null,
      "outputs": [
        {
          "output_type": "stream",
          "text": [
            "c:\\users\\lucas\\appdata\\local\\programs\\python\\python37\\lib\\site-packages\\ipykernel_launcher.py:1: SettingWithCopyWarning: \n",
            "A value is trying to be set on a copy of a slice from a DataFrame.\n",
            "Try using .loc[row_indexer,col_indexer] = value instead\n",
            "\n",
            "See the caveats in the documentation: http://pandas.pydata.org/pandas-docs/stable/indexing.html#indexing-view-versus-copy\n",
            "  \"\"\"Entry point for launching an IPython kernel.\n"
          ],
          "name": "stderr"
        }
      ]
    },
    {
      "cell_type": "code",
      "metadata": {
        "id": "835OANSDGQWP",
        "outputId": "3dd8f07a-e87d-4f8c-88e1-100f90a60ab5"
      },
      "source": [
        "df_words['Palavras'] = df_words['Palavras'].apply(lambda x: ' '.join(word for word in x))"
      ],
      "execution_count": null,
      "outputs": [
        {
          "output_type": "stream",
          "text": [
            "c:\\users\\lucas\\appdata\\local\\programs\\python\\python37\\lib\\site-packages\\ipykernel_launcher.py:1: SettingWithCopyWarning: \n",
            "A value is trying to be set on a copy of a slice from a DataFrame.\n",
            "Try using .loc[row_indexer,col_indexer] = value instead\n",
            "\n",
            "See the caveats in the documentation: http://pandas.pydata.org/pandas-docs/stable/indexing.html#indexing-view-versus-copy\n",
            "  \"\"\"Entry point for launching an IPython kernel.\n"
          ],
          "name": "stderr"
        }
      ]
    },
    {
      "cell_type": "code",
      "metadata": {
        "id": "WynW9XdxGQWQ",
        "outputId": "02d7f1c5-d03e-4ffd-8811-4984917a7374"
      },
      "source": [
        "def plot_10_most_common_words(count_data, count_vectorizer):\n",
        "    import matplotlib.pyplot as plt\n",
        "    words = count_vectorizer.get_feature_names()\n",
        "    total_counts = np.zeros(len(words))\n",
        "    for t in count_data:\n",
        "        total_counts+=t.toarray()[0]\n",
        "    \n",
        "    count_dict = (zip(words, total_counts))\n",
        "    count_dict = sorted(count_dict, key=lambda x:x[1], reverse=True)[0:30]\n",
        "    words = [w[0] for w in count_dict]\n",
        "    counts = [w[1] for w in count_dict]\n",
        "    x_pos = np.arange(len(words)) \n",
        "    \n",
        "    plt.figure(2, figsize=(15, 15/1.6180))\n",
        "    plt.subplot(title='10 most common words')\n",
        "    #sns.set_context(\"notebook\", font_scale=1.25, rc={\"lines.linewidth\": 2.5})\n",
        "    sns.barplot(x_pos, counts, palette='Blues')\n",
        "    plt.xticks(x_pos, words, rotation=90) \n",
        "    plt.xlabel('words')\n",
        "    plt.ylabel('counts')\n",
        "    plt.show()\n",
        "# Initialise the count vectorizer with the English stop words\n",
        "count_vectorizer = CountVectorizer()\n",
        "# Fit and transform the processed titles\n",
        "count_data = count_vectorizer.fit_transform(df_words['Palavras'])\n",
        "# Visualise the 10 most common words\n",
        "plot_10_most_common_words(count_data, count_vectorizer)"
      ],
      "execution_count": null,
      "outputs": [
        {
          "output_type": "display_data",
          "data": {
            "image/png": "[encoded data removed]",
            "text/plain": [
              "<Figure size 1080x667.491 with 1 Axes>"
            ]
          },
          "metadata": {
            "tags": [],
            "needs_background": "light"
          }
        }
      ]
    },
    {
      "cell_type": "code",
      "metadata": {
        "id": "Jzx0HMjKGQWR"
      },
      "source": [
        "#Quantidade de tópicos: 20, 30, 50\n",
        "#Quantidade de palavras: 15, 30, 50"
      ],
      "execution_count": null,
      "outputs": []
    },
    {
      "cell_type": "code",
      "metadata": {
        "id": "CS0V5QYTGQWS",
        "outputId": "e199bfc2-35bc-4100-f17d-eb43b1e96cdf"
      },
      "source": [
        "from sklearn.decomposition import LatentDirichletAllocation as LDA\n",
        " \n",
        "def print_topics(model, count_vectorizer, n_top_words):\n",
        "    words = count_vectorizer.get_feature_names()\n",
        "    f = open(f\"LDA_{number_topics}_topics_{number_words}_words.txt\", \"w\")\n",
        "    f.write(f\"Topics found via LDA: {number_topics}_topics_{number_words}_words\")\n",
        "    \n",
        "    for topic_idx, topic in enumerate(model.components_):\n",
        "        f.write(\"\\nTopic #%d:\" % topic_idx)\n",
        "        f.write(\" \".join([words[i]\n",
        "                        for i in topic.argsort()[:-n_top_words - 1:-1]])) \n",
        "    f.close()\n",
        "    \n",
        "    \n",
        "for qtd_topicos in [20, 30, 50]:\n",
        "    for qtd_palavras in [15, 30, 50]:\n",
        "        \n",
        "        # Tweak the two parameters below\n",
        "        number_topics = qtd_topicos\n",
        "        number_words = qtd_palavras\n",
        "        # Create and fit the LDA model\n",
        "        lda = LDA(n_components=number_topics, n_jobs=-1, max_iter = 600)\n",
        "        lda.fit(count_data)\n",
        "        # Print the topics found by the LDA model\n",
        "\n",
        "        print_topics(lda, count_vectorizer, number_words)\n",
        "        \n",
        "        \n",
        "        LDAvis_prepared = sklearn_lda.prepare(lda, count_data, count_vectorizer)\n",
        "        pyLDAvis.save_html(LDAvis_prepared, f'ldavis_topics_{number_topics}_words_{number_words}'+'.html')"
      ],
      "execution_count": null,
      "outputs": [
        {
          "output_type": "stream",
          "text": [
            "c:\\users\\lucas\\appdata\\local\\programs\\python\\python37\\lib\\site-packages\\pyLDAvis\\_prepare.py:257: FutureWarning: Sorting because non-concatenation axis is not aligned. A future version\n",
            "of pandas will change to not sort by default.\n",
            "\n",
            "To accept the future behavior, pass 'sort=False'.\n",
            "\n",
            "To retain the current behavior and silence the warning, pass 'sort=True'.\n",
            "\n",
            "  return pd.concat([default_term_info] + list(topic_dfs))\n",
            "c:\\users\\lucas\\appdata\\local\\programs\\python\\python37\\lib\\site-packages\\pyLDAvis\\_prepare.py:257: FutureWarning: Sorting because non-concatenation axis is not aligned. A future version\n",
            "of pandas will change to not sort by default.\n",
            "\n",
            "To accept the future behavior, pass 'sort=False'.\n",
            "\n",
            "To retain the current behavior and silence the warning, pass 'sort=True'.\n",
            "\n",
            "  return pd.concat([default_term_info] + list(topic_dfs))\n",
            "c:\\users\\lucas\\appdata\\local\\programs\\python\\python37\\lib\\site-packages\\pyLDAvis\\_prepare.py:257: FutureWarning: Sorting because non-concatenation axis is not aligned. A future version\n",
            "of pandas will change to not sort by default.\n",
            "\n",
            "To accept the future behavior, pass 'sort=False'.\n",
            "\n",
            "To retain the current behavior and silence the warning, pass 'sort=True'.\n",
            "\n",
            "  return pd.concat([default_term_info] + list(topic_dfs))\n",
            "c:\\users\\lucas\\appdata\\local\\programs\\python\\python37\\lib\\site-packages\\pyLDAvis\\_prepare.py:257: FutureWarning: Sorting because non-concatenation axis is not aligned. A future version\n",
            "of pandas will change to not sort by default.\n",
            "\n",
            "To accept the future behavior, pass 'sort=False'.\n",
            "\n",
            "To retain the current behavior and silence the warning, pass 'sort=True'.\n",
            "\n",
            "  return pd.concat([default_term_info] + list(topic_dfs))\n",
            "c:\\users\\lucas\\appdata\\local\\programs\\python\\python37\\lib\\site-packages\\pyLDAvis\\_prepare.py:257: FutureWarning: Sorting because non-concatenation axis is not aligned. A future version\n",
            "of pandas will change to not sort by default.\n",
            "\n",
            "To accept the future behavior, pass 'sort=False'.\n",
            "\n",
            "To retain the current behavior and silence the warning, pass 'sort=True'.\n",
            "\n",
            "  return pd.concat([default_term_info] + list(topic_dfs))\n",
            "c:\\users\\lucas\\appdata\\local\\programs\\python\\python37\\lib\\site-packages\\pyLDAvis\\_prepare.py:257: FutureWarning: Sorting because non-concatenation axis is not aligned. A future version\n",
            "of pandas will change to not sort by default.\n",
            "\n",
            "To accept the future behavior, pass 'sort=False'.\n",
            "\n",
            "To retain the current behavior and silence the warning, pass 'sort=True'.\n",
            "\n",
            "  return pd.concat([default_term_info] + list(topic_dfs))\n",
            "c:\\users\\lucas\\appdata\\local\\programs\\python\\python37\\lib\\site-packages\\pyLDAvis\\_prepare.py:257: FutureWarning: Sorting because non-concatenation axis is not aligned. A future version\n",
            "of pandas will change to not sort by default.\n",
            "\n",
            "To accept the future behavior, pass 'sort=False'.\n",
            "\n",
            "To retain the current behavior and silence the warning, pass 'sort=True'.\n",
            "\n",
            "  return pd.concat([default_term_info] + list(topic_dfs))\n",
            "c:\\users\\lucas\\appdata\\local\\programs\\python\\python37\\lib\\site-packages\\pyLDAvis\\_prepare.py:257: FutureWarning: Sorting because non-concatenation axis is not aligned. A future version\n",
            "of pandas will change to not sort by default.\n",
            "\n",
            "To accept the future behavior, pass 'sort=False'.\n",
            "\n",
            "To retain the current behavior and silence the warning, pass 'sort=True'.\n",
            "\n",
            "  return pd.concat([default_term_info] + list(topic_dfs))\n",
            "c:\\users\\lucas\\appdata\\local\\programs\\python\\python37\\lib\\site-packages\\pyLDAvis\\_prepare.py:257: FutureWarning: Sorting because non-concatenation axis is not aligned. A future version\n",
            "of pandas will change to not sort by default.\n",
            "\n",
            "To accept the future behavior, pass 'sort=False'.\n",
            "\n",
            "To retain the current behavior and silence the warning, pass 'sort=True'.\n",
            "\n",
            "  return pd.concat([default_term_info] + list(topic_dfs))\n"
          ],
          "name": "stderr"
        }
      ]
    },
    {
      "cell_type": "code",
      "metadata": {
        "id": "2pTi8Du5GQWT",
        "outputId": "b2b22db9-b101-49e3-b1f2-64a4925b1a3d"
      },
      "source": [
        "'''from sklearn.decomposition import LatentDirichletAllocation as LDA\n",
        " \n",
        "# Helper function\n",
        "def print_topics(model, count_vectorizer, n_top_words):\n",
        "    words = count_vectorizer.get_feature_names()\n",
        "    for topic_idx, topic in enumerate(model.components_):\n",
        "        print(\"\\nTopic #%d:\" % topic_idx)\n",
        "        print(\" \".join([words[i]\n",
        "                        for i in topic.argsort()[:-n_top_words - 1:-1]]))\n",
        "        \n",
        "# Tweak the two parameters below\n",
        "number_topics = 20\n",
        "number_words = 15\n",
        "# Create and fit the LDA model\n",
        "lda = LDA(n_components=number_topics, n_jobs=-1)\n",
        "lda.fit(count_data)\n",
        "# Print the topics found by the LDA model\n",
        "print(\"Topics found via LDA:\")\n",
        "print_topics(lda, count_vectorizer, number_words)'''"
      ],
      "execution_count": null,
      "outputs": [
        {
          "output_type": "stream",
          "text": [
            "Topics found via LDA:\n",
            "\n",
            "Topic #0:\n",
            "gabinete estado ae vi agricultura ministro oa ta mm secretario cr secretaria qua ax ia\n",
            "\n",
            "Topic #1:\n",
            "ser nacional brasil governo ainda sobre problema deve todos pode outro bem cada estados tal\n",
            "\n",
            "Topic #2:\n",
            "pt juarez rio procedente geral interventor re data hora be major co general ra ca\n",
            "\n",
            "Topic #3:\n",
            "caso bem ser amigo eminente sempre todos juarez sobre estado qualquer carta militar todas chefia\n",
            "\n",
            "Topic #4:\n",
            "of to in it an on at is be he or az au general ali\n",
            "\n",
            "Topic #5:\n",
            "hora telegrama departamento entrega recibo indicar receber data contem recebido carimbo juarez seguintes rio lu\n",
            "\n",
            "Topic #6:\n",
            "todos ainda ser governo qualquer si ter contra tal ha pois porque assim ae grande\n",
            "\n",
            "Topic #7:\n",
            "rio grande ser estado ainda obras sul porto dia onde sob sobre outros parte bem\n",
            "\n",
            "Topic #8:\n",
            "silva francisco dr carlos manoel luiz paulo lima costa pedro pereira souza oliveira santos rio\n",
            "\n",
            "Topic #9:\n",
            "al ca fi ai jl cl fa geral ja fl ar at af ia ac\n",
            "\n",
            "Topic #10:\n",
            "sobre ser departamento nacional presidente todos sob sempre brasil desde mineral rocha parte to recursos\n",
            "\n",
            "Topic #11:\n",
            "fl motivo sede alguma ec responsabilidade western fi via rio todos tc ordem central estados\n",
            "\n",
            "Topic #12:\n",
            "ser en conselho art estados sobre governo nacional la acordo cada ae presidente dei geral\n",
            "\n",
            "Topic #13:\n",
            "maior ser mensageiro dentro so rede outro pan tal ae cada sobre mundo contra deve\n",
            "\n",
            "Topic #14:\n",
            "nacional assunto rio natureza documento grande resposta texto dia detalhe remetente sobre numero estado frente\n",
            "\n",
            "Topic #15:\n",
            "juarez general militar chefe amigo rio brasil prezado janeiro rua solidariedade momento certo estar tanto\n",
            "\n",
            "Topic #16:\n",
            "lei art nacional decreto ser direito artigo lavra transporte prazo sobre conselho capital sob pesquisa\n",
            "\n",
            "Topic #17:\n",
            "todos ser bem carta amigo sobre ainda aqui ter porque sempre grande tudo governo ha\n",
            "\n",
            "Topic #18:\n",
            "ae ser presidente bem sobre contra ter quanto parte ainda to valor maior fato dois\n",
            "\n",
            "Topic #19:\n",
            "rio juarez janeiro rua moraes sobre to general contra fernandes mendes luiz paulo andar coronel\n"
          ],
          "name": "stdout"
        }
      ]
    },
    {
      "cell_type": "code",
      "metadata": {
        "id": "BvTqzgJeGQWU",
        "outputId": "7a1911c7-6920-47dc-f4db-2b2b737c9677"
      },
      "source": [
        "LDAvis_prepared = sklearn_lda.prepare(lda, count_data, count_vectorizer)\n",
        "pyLDAvis.save_html(LDAvis_prepared, 'ldavis_topics_20_words_15'+'.html')"
      ],
      "execution_count": null,
      "outputs": [
        {
          "output_type": "stream",
          "text": [
            "c:\\users\\lucas\\appdata\\local\\programs\\python\\python37\\lib\\site-packages\\pyLDAvis\\_prepare.py:257: FutureWarning: Sorting because non-concatenation axis is not aligned. A future version\n",
            "of pandas will change to not sort by default.\n",
            "\n",
            "To accept the future behavior, pass 'sort=False'.\n",
            "\n",
            "To retain the current behavior and silence the warning, pass 'sort=True'.\n",
            "\n",
            "  return pd.concat([default_term_info] + list(topic_dfs))\n"
          ],
          "name": "stderr"
        }
      ]
    },
    {
      "cell_type": "code",
      "metadata": {
        "id": "fuw08jhgGQWV"
      },
      "source": [
        "lista = 'to pt sobre ca si al ra ainda ai so ta ae fl in oa fi at co li ti qualquer ha dr sa ter be tal ar sob onde es ma of ri re ir assim la sempre desde cl jl is mo am ac it oe an st ro or en vez on pa io dc lo deste alguns fa pe mi lu mm va pis ua af agora ce le il he vossa via pi ne des ali pr om quais nesse alguma el cr az aj aue ei au demais nessa av qua ul ho et po vo perante ve pu di ap tr ie su ui un ad per nt logo go ji du bo fo er jo mu' "
      ],
      "execution_count": null,
      "outputs": []
    },
    {
      "cell_type": "code",
      "metadata": {
        "id": "-Yayh8YcGQWV",
        "outputId": "0becd8eb-c0f8-45df-e5d9-1c1868d6d813"
      },
      "source": [
        "lista.split()"
      ],
      "execution_count": null,
      "outputs": [
        {
          "output_type": "execute_result",
          "data": {
            "text/plain": [
              "['to',\n",
              " 'pt',\n",
              " 'sobre',\n",
              " 'ca',\n",
              " 'si',\n",
              " 'al',\n",
              " 'ra',\n",
              " 'ainda',\n",
              " 'ai',\n",
              " 'so',\n",
              " 'ta',\n",
              " 'ae',\n",
              " 'fl',\n",
              " 'in',\n",
              " 'oa',\n",
              " 'fi',\n",
              " 'at',\n",
              " 'co',\n",
              " 'li',\n",
              " 'ti',\n",
              " 'qualquer',\n",
              " 'ha',\n",
              " 'dr',\n",
              " 'sa',\n",
              " 'ter',\n",
              " 'be',\n",
              " 'tal',\n",
              " 'ar',\n",
              " 'sob',\n",
              " 'onde',\n",
              " 'es',\n",
              " 'ma',\n",
              " 'of',\n",
              " 'ri',\n",
              " 're',\n",
              " 'ir',\n",
              " 'assim',\n",
              " 'la',\n",
              " 'sempre',\n",
              " 'desde',\n",
              " 'cl',\n",
              " 'jl',\n",
              " 'is',\n",
              " 'mo',\n",
              " 'am',\n",
              " 'ac',\n",
              " 'it',\n",
              " 'oe',\n",
              " 'an',\n",
              " 'st',\n",
              " 'ro',\n",
              " 'or',\n",
              " 'en',\n",
              " 'vez',\n",
              " 'on',\n",
              " 'pa',\n",
              " 'io',\n",
              " 'dc',\n",
              " 'lo',\n",
              " 'deste',\n",
              " 'alguns',\n",
              " 'fa',\n",
              " 'pe',\n",
              " 'mi',\n",
              " 'lu',\n",
              " 'mm',\n",
              " 'va',\n",
              " 'pis',\n",
              " 'ua',\n",
              " 'af',\n",
              " 'agora',\n",
              " 'ce',\n",
              " 'le',\n",
              " 'il',\n",
              " 'he',\n",
              " 'vossa',\n",
              " 'via',\n",
              " 'pi',\n",
              " 'ne',\n",
              " 'des',\n",
              " 'ali',\n",
              " 'pr',\n",
              " 'om',\n",
              " 'quais',\n",
              " 'nesse',\n",
              " 'alguma',\n",
              " 'el',\n",
              " 'cr',\n",
              " 'az',\n",
              " 'aj',\n",
              " 'aue',\n",
              " 'ei',\n",
              " 'au',\n",
              " 'demais',\n",
              " 'nessa',\n",
              " 'av',\n",
              " 'qua',\n",
              " 'ul',\n",
              " 'ho',\n",
              " 'et',\n",
              " 'po',\n",
              " 'vo',\n",
              " 'perante',\n",
              " 've',\n",
              " 'pu',\n",
              " 'di',\n",
              " 'ap',\n",
              " 'tr',\n",
              " 'ie',\n",
              " 'su',\n",
              " 'ui',\n",
              " 'un',\n",
              " 'ad',\n",
              " 'per',\n",
              " 'nt',\n",
              " 'logo',\n",
              " 'go',\n",
              " 'ji',\n",
              " 'du',\n",
              " 'bo',\n",
              " 'fo',\n",
              " 'er',\n",
              " 'jo',\n",
              " 'mu']"
            ]
          },
          "metadata": {
            "tags": []
          },
          "execution_count": 4
        }
      ]
    },
    {
      "cell_type": "code",
      "metadata": {
        "id": "jDhrkVkKGQWW",
        "outputId": "d8e8b539-9133-4445-e58c-0d063908e120"
      },
      "source": [
        "f = open(\"demofile3.txt\", \"w\")\n",
        "f.write(print(\"Woops! I have deleted the content!\"))\n",
        "f.close()"
      ],
      "execution_count": null,
      "outputs": [
        {
          "output_type": "stream",
          "text": [
            "Woops! I have deleted the content!\n"
          ],
          "name": "stdout"
        },
        {
          "output_type": "error",
          "ename": "TypeError",
          "evalue": "write() argument must be str, not None",
          "traceback": [
            "\u001b[1;31m---------------------------------------------------------------------------\u001b[0m",
            "\u001b[1;31mTypeError\u001b[0m                                 Traceback (most recent call last)",
            "\u001b[1;32m<ipython-input-12-7ad16add5b37>\u001b[0m in \u001b[0;36m<module>\u001b[1;34m\u001b[0m\n\u001b[0;32m      1\u001b[0m \u001b[0mf\u001b[0m \u001b[1;33m=\u001b[0m \u001b[0mopen\u001b[0m\u001b[1;33m(\u001b[0m\u001b[1;34m\"demofile3.txt\"\u001b[0m\u001b[1;33m,\u001b[0m \u001b[1;34m\"w\"\u001b[0m\u001b[1;33m)\u001b[0m\u001b[1;33m\u001b[0m\u001b[1;33m\u001b[0m\u001b[0m\n\u001b[1;32m----> 2\u001b[1;33m \u001b[0mf\u001b[0m\u001b[1;33m.\u001b[0m\u001b[0mwrite\u001b[0m\u001b[1;33m(\u001b[0m\u001b[0mprint\u001b[0m\u001b[1;33m(\u001b[0m\u001b[1;34m\"Woops! I have deleted the content!\"\u001b[0m\u001b[1;33m)\u001b[0m\u001b[1;33m)\u001b[0m\u001b[1;33m\u001b[0m\u001b[1;33m\u001b[0m\u001b[0m\n\u001b[0m\u001b[0;32m      3\u001b[0m \u001b[0mf\u001b[0m\u001b[1;33m.\u001b[0m\u001b[0mclose\u001b[0m\u001b[1;33m(\u001b[0m\u001b[1;33m)\u001b[0m\u001b[1;33m\u001b[0m\u001b[1;33m\u001b[0m\u001b[0m\n",
            "\u001b[1;31mTypeError\u001b[0m: write() argument must be str, not None"
          ]
        }
      ]
    },
    {
      "cell_type": "code",
      "metadata": {
        "id": "fPYtV83QGQWX",
        "outputId": "84a88350-bcba-42ab-df21-9ef661843c2a"
      },
      "source": [
        "a = print('te')"
      ],
      "execution_count": null,
      "outputs": [
        {
          "output_type": "stream",
          "text": [
            "te\n"
          ],
          "name": "stdout"
        }
      ]
    },
    {
      "cell_type": "code",
      "metadata": {
        "id": "GYTc-ASWGQWX",
        "outputId": "8389b3ee-c995-4e32-c390-49c9cbe0ca01"
      },
      "source": [
        "print(a)"
      ],
      "execution_count": null,
      "outputs": [
        {
          "output_type": "stream",
          "text": [
            "None\n"
          ],
          "name": "stdout"
        }
      ]
    },
    {
      "cell_type": "code",
      "metadata": {
        "id": "TS1TKknAGQWX"
      },
      "source": [
        "LDA(,"
      ],
      "execution_count": null,
      "outputs": []
    }
  ]
}